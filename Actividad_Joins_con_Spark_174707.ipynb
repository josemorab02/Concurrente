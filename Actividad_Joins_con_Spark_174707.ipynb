{
  "cells": [
    {
      "cell_type": "markdown",
      "metadata": {
        "id": "view-in-github"
      },
      "source": [
        "<a href=\"https://colab.research.google.com/github/robertoarturomc/ProgramacionConcurrente/blob/main/27_Joins_con_Spark.ipynb\" target=\"_parent\"><img src=\"https://colab.research.google.com/assets/colab-badge.svg\" alt=\"Open In Colab\"/></a>"
      ]
    },
    {
      "cell_type": "markdown",
      "metadata": {
        "id": "8UQAJS17EEaI"
      },
      "source": [
        "# Programación Concurrente\n",
        "## Actividad: Joins con Spark\n",
        "#### Jose Manuel Mora Balderas - 174707\n"
      ]
    },
    {
      "cell_type": "code",
      "source": [
        "from pyspark.sql import SparkSession\n",
        "from pyspark.sql.functions import col, lit, to_timestamp, year, max, sum"
      ],
      "metadata": {
        "id": "0dtuuRww-ekh"
      },
      "execution_count": 63,
      "outputs": []
    },
    {
      "cell_type": "code",
      "source": [
        "spark = SparkSession.builder.master(\"local[*]\").getOrCreate()\n",
        "spark"
      ],
      "metadata": {
        "colab": {
          "base_uri": "https://localhost:8080/",
          "height": 219
        },
        "id": "X2lSnbMu90R9",
        "outputId": "356461bd-3dad-4115-c7fb-b3d1b0680bbc"
      },
      "execution_count": 64,
      "outputs": [
        {
          "output_type": "execute_result",
          "data": {
            "text/plain": [
              "<pyspark.sql.session.SparkSession at 0x7b1d35a53760>"
            ],
            "text/html": [
              "\n",
              "            <div>\n",
              "                <p><b>SparkSession - in-memory</b></p>\n",
              "                \n",
              "        <div>\n",
              "            <p><b>SparkContext</b></p>\n",
              "\n",
              "            <p><a href=\"http://c7682fb99f35:4040\">Spark UI</a></p>\n",
              "\n",
              "            <dl>\n",
              "              <dt>Version</dt>\n",
              "                <dd><code>v3.5.3</code></dd>\n",
              "              <dt>Master</dt>\n",
              "                <dd><code>local[*]</code></dd>\n",
              "              <dt>AppName</dt>\n",
              "                <dd><code>pyspark-shell</code></dd>\n",
              "            </dl>\n",
              "        </div>\n",
              "        \n",
              "            </div>\n",
              "        "
            ]
          },
          "metadata": {},
          "execution_count": 64
        }
      ]
    },
    {
      "cell_type": "markdown",
      "source": [
        "Un Join es una operación que permite combinar datos de dos o más tablas en una sola, basándose en una relación entre ellas. Usualmente, esta relación se establece a través de una columna en común entre las tablas.\n",
        "\n",
        "El Join permite acceder y manipular datos que están distribuidos en varias tablas de manera conjunta, obteniendo así resultados más complejos y completos.\n",
        "\n",
        "Vamos a leer tres tablas; estas se encuentran en este [enlace de Kaggle](https://www.kaggle.com/datasets/svbstan/sales-product-and-customer-insight-repository)"
      ],
      "metadata": {
        "id": "o2haTcTjDZPa"
      }
    },
    {
      "cell_type": "code",
      "source": [
        "from google.colab import drive\n",
        "drive.mount('/content/drive')\n",
        "\n",
        "customer = spark.read.csv('/content/drive/MyDrive/Colab Notebooks/Joins con Spark/customer_profile_dataset.csv', header=True)\n",
        "customer.show(5)"
      ],
      "metadata": {
        "colab": {
          "base_uri": "https://localhost:8080/"
        },
        "id": "QT5siaoqDq1V",
        "outputId": "224f0589-8df6-4672-813f-3d6b1fbb8339"
      },
      "execution_count": 65,
      "outputs": [
        {
          "output_type": "stream",
          "name": "stdout",
          "text": [
            "Drive already mounted at /content/drive; to attempt to forcibly remount, call drive.mount(\"/content/drive\", force_remount=True).\n",
            "+-----------+----------+---------+------+-------------------+--------------------+------------+-------------------+-------------+-----------+-----+--------+\n",
            "|customer_id|first_name|last_name|gender|      date_of_birth|               email|phone_number|        signup_date|      address|       city|state|zip_code|\n",
            "+-----------+----------+---------+------+-------------------+--------------------+------------+-------------------+-------------+-----------+-----+--------+\n",
            "|          1|    Robert|    Smith|Female|1994-06-14 21:40:27|jane.davis1@mail.com|634-106-4981|2016-10-16 17:23:25| 8465 Main St|San Antonio|   CA|   35566|\n",
            "|          2|     Emily|   Garcia|Female|1989-09-21 17:56:31|robert.williams2@...|386-635-5998|2021-04-04 14:24:06|  305 Main St|   New York|   AZ|   23187|\n",
            "|          3|   Jessica|    Brown|  Male|1984-01-21 21:43:13|emily.davis3@mail...|627-341-5213|2018-04-22 04:51:57|  5725 Oak St|    Chicago|   AZ|   99188|\n",
            "|          4|   Michael|    Brown|  Male|1986-02-06 13:09:53|jessica.williams4...|126-662-8981|2018-07-06 17:45:14|  8468 Oak St|Los Angeles|   TX|   77421|\n",
            "|          5|    Robert|    Jones|  Male|1996-12-05 05:10:11|robert.martinez5@...|758-947-2802|2018-03-11 01:43:10|2820 Maple St|    Chicago|   TX|   36281|\n",
            "+-----------+----------+---------+------+-------------------+--------------------+------------+-------------------+-------------+-----------+-----+--------+\n",
            "only showing top 5 rows\n",
            "\n"
          ]
        }
      ]
    },
    {
      "cell_type": "code",
      "source": [
        "products = spark.read.csv('/content/drive/MyDrive/Colab Notebooks/Joins con Spark/products_dataset.csv', header=True)\n",
        "products.show(5)"
      ],
      "metadata": {
        "colab": {
          "base_uri": "https://localhost:8080/"
        },
        "id": "e2siPRUfFWOH",
        "outputId": "5c37ce56-a41f-4651-9905-2d61f914829d"
      },
      "execution_count": 66,
      "outputs": [
        {
          "output_type": "stream",
          "name": "stdout",
          "text": [
            "+----------+------------+--------+--------------+------+--------------------+\n",
            "|product_id|product_name|category|price_per_unit| brand| product_description|\n",
            "+----------+------------+--------+--------------+------+--------------------+\n",
            "|         1|      Butter|   Dairy|         28.58|BrandB|Description for Rice|\n",
            "|         2|      Butter|   Meats|         22.66|BrandB|Description for B...|\n",
            "|         3|        Milk|   Meats|         26.52|BrandE|Description for B...|\n",
            "|         4|      Banana|  Grains|         26.12|BrandB|Description for A...|\n",
            "|         5|        Rice|  Fruits|         21.94|BrandD|Description for B...|\n",
            "+----------+------------+--------+--------------+------+--------------------+\n",
            "only showing top 5 rows\n",
            "\n"
          ]
        }
      ]
    },
    {
      "cell_type": "code",
      "source": [
        "purchase = spark.read.csv('/content/drive/MyDrive/Colab Notebooks/Joins con Spark/purchase_history_dataset.csv', header=True)\n",
        "purchase.show(5)"
      ],
      "metadata": {
        "colab": {
          "base_uri": "https://localhost:8080/"
        },
        "id": "UMpzJfv5F8fz",
        "outputId": "a4907e6a-1059-4ae6-cf43-6ff8bff36f7a"
      },
      "execution_count": 67,
      "outputs": [
        {
          "output_type": "stream",
          "name": "stdout",
          "text": [
            "+-----------+-----------+----------+-------------------+--------+------------------+\n",
            "|purchase_id|customer_id|product_id|      purchase_date|quantity|      total_amount|\n",
            "+-----------+-----------+----------+-------------------+--------+------------------+\n",
            "|          1|          1|        42|2018-04-15 14:08:01|       3| 37.64207365077783|\n",
            "|          2|          1|       138|2022-07-10 23:33:47|       4| 70.24710587172727|\n",
            "|          3|          1|       403|2021-12-31 03:53:33|       3| 89.16889585975464|\n",
            "|          4|          1|       193|2017-01-14 01:25:11|       2| 59.70505931112876|\n",
            "|          5|          1|        26|2018-04-06 11:01:06|       3|101.77886387225126|\n",
            "+-----------+-----------+----------+-------------------+--------+------------------+\n",
            "only showing top 5 rows\n",
            "\n"
          ]
        }
      ]
    },
    {
      "cell_type": "markdown",
      "source": [
        "Ejercicios; contesta desarrollando el correspondiente código en Pyspark:\n",
        "\n",
        "1. Responde, ¿cuántos clientes llamados \"Robert\" (nota cómo hay *Males* y *Females*), compraron algún producto lácteo (Dairy) en 2022 ?\n",
        "\n",
        "2. Eres empleado de *BrandB*. ¿En cuáles ciudades has vendido una mayor cantidad? (total_amount)\n",
        "\n",
        "3. ¿De cuánto es la mayor cantidad (quantity) que ha sido comprado por algún hombre O cuyo producto sea pan (Bread)?"
      ],
      "metadata": {
        "id": "NE8CLqxoOGip"
      }
    },
    {
      "cell_type": "code",
      "source": [
        "# 1. ¿Cuántos clientes llamados \"Robert\" (nota cómo hay *Males* y *Females*), compraron algún producto lácteo (Dairy) en 2022 ?\n",
        "\n",
        "robert_dairy_2022 = purchase.join(customer, purchase.customer_id == customer.customer_id, 'inner') \\\n",
        "    .join(products, purchase.product_id == products.product_id, 'inner') \\\n",
        "    .filter((col(\"first_name\") == \"Robert\") & (col(\"category\") == \"Dairy\") & (year(col(\"purchase_date\")) == 2022))\n",
        "\n",
        "print(\"Número de clientes llamados 'Robert' que compraron productos lácteos en 2022:\", robert_dairy_2022.count())\n"
      ],
      "metadata": {
        "id": "P_a5y8AFOEjC",
        "colab": {
          "base_uri": "https://localhost:8080/"
        },
        "outputId": "5db4562d-6f53-4c3b-cea2-20cd6b74513c"
      },
      "execution_count": 68,
      "outputs": [
        {
          "output_type": "stream",
          "name": "stdout",
          "text": [
            "Número de clientes llamados 'Robert' que compraron productos lácteos en 2022: 44\n"
          ]
        }
      ]
    },
    {
      "cell_type": "code",
      "source": [
        "# 2. Eres empleado de BrandB. ¿En cuáles ciudades has vendido una mayor cantidad? (total_amount)\n",
        "\n",
        "ciudades_mayor_cantidad= purchase.join(customer, purchase.customer_id == customer.customer_id, 'inner') \\\n",
        "    .groupBy(\"city\") \\\n",
        "    .agg(sum(\"total_amount\").alias(\"total_sales\")) \\\n",
        "    .orderBy(col(\"total_sales\").desc())\n",
        "\n",
        "print(\"\\nCiudades con mayor cantidad de ventas (total_amount) para BrandB:\")\n",
        "ciudades_mayor_cantidad.show(3)"
      ],
      "metadata": {
        "colab": {
          "base_uri": "https://localhost:8080/"
        },
        "id": "1Q9UhmXlCmx3",
        "outputId": "a0ce1e66-2d78-44a2-d9e0-73a46695f955"
      },
      "execution_count": 70,
      "outputs": [
        {
          "output_type": "stream",
          "name": "stdout",
          "text": [
            "\n",
            "Ciudades con mayor cantidad de ventas (total_amount) para BrandB:\n",
            "+--------+------------------+\n",
            "|    city|       total_sales|\n",
            "+--------+------------------+\n",
            "| Chicago| 132182.1816838523|\n",
            "|New York|118338.72282221109|\n",
            "| Phoenix|116973.36827142647|\n",
            "+--------+------------------+\n",
            "only showing top 3 rows\n",
            "\n"
          ]
        }
      ]
    },
    {
      "cell_type": "code",
      "source": [
        "# 3. ¿De cuánto es la mayor cantidad (quantity) que ha sido comprado por algún hombre O cuyo producto sea pan (Bread)?\n",
        "\n",
        "max_cantidad_hombre_o_pan = purchase.join(customer, purchase.customer_id == customer.customer_id, 'inner') \\\n",
        "    .join(products, purchase.product_id == products.product_id, 'inner') \\\n",
        "    .filter((col(\"gender\") == \"Male\") | (col(\"product_name\") == \"Bread\")) \\\n",
        "    .agg(max(\"quantity\"))\n",
        "\n",
        "print(\"\\nMayor cantidad (quantity) comprada por un hombre o cuyo producto sea pan:\", max_cantidad_hombre_o_pan.collect()[0][0])"
      ],
      "metadata": {
        "colab": {
          "base_uri": "https://localhost:8080/"
        },
        "id": "Bd3zh9iQCpJt",
        "outputId": "887e5343-95c6-4ed4-ae23-185290a5a7ef"
      },
      "execution_count": 71,
      "outputs": [
        {
          "output_type": "stream",
          "name": "stdout",
          "text": [
            "\n",
            "Mayor cantidad (quantity) comprada por un hombre o cuyo producto sea pan: 5\n"
          ]
        }
      ]
    }
  ],
  "metadata": {
    "colab": {
      "provenance": []
    },
    "kernelspec": {
      "display_name": "Python 3",
      "name": "python3"
    },
    "language_info": {
      "name": "python"
    }
  },
  "nbformat": 4,
  "nbformat_minor": 0
}