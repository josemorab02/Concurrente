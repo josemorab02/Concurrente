{
  "cells": [
    {
      "cell_type": "markdown",
      "id": "27ee881f",
      "metadata": {
        "id": "27ee881f"
      },
      "source": [
        "# Análisis comparativo: Secuencial, Multi-hilos y Multi-procesos - Jose Manuel Mora Balderas - 174707\n",
        "\n",
        "En este notebook, vamos a realizar un análisis comparativo entre tres enfoques de programación:\n",
        "- **Secuencial**: El programa se ejecuta de principio a fin sin utilizar concurrencia.\n",
        "- **Concurrente con multi-hilos**: Se divide el trabajo en varios hilos concurrentes.\n",
        "- **Concurrente con multi-procesos**: Se divide el trabajo entre varios procesos separados.\n",
        "\n",
        "La tarea a resolver en los tres enfoques será calcular la suma de los cuadrados de los primeros **N** números enteros.\n",
        "Realizaremos cada ejecución 5 veces para asegurar resultados consistentes y calcularemos la **mediana** de los tiempos de ejecución.\n"
      ]
    },
    {
      "cell_type": "code",
      "execution_count": 45,
      "id": "1a941c81",
      "metadata": {
        "colab": {
          "base_uri": "https://localhost:8080/"
        },
        "id": "1a941c81",
        "outputId": "187ab0cd-cb8d-4b61-f8a4-9c2f6b00deb7"
      },
      "outputs": [
        {
          "output_type": "stream",
          "name": "stdout",
          "text": [
            "Mediana del tiempo secuencial: 35.45701861381531 segundos\n"
          ]
        }
      ],
      "source": [
        "import time\n",
        "import numpy as np\n",
        "\n",
        "# Enfoque Secuencial: Calcula la suma de los cuadrados de los primeros N números enteros.\n",
        "def sum_of_squares_sequential(N):\n",
        "    sum = 0\n",
        "    for i in range(N):\n",
        "      sum = sum + i**2\n",
        "    return sum\n",
        "\n",
        "N = 10**8  # Definimos el valor de N para el experimento (100 millones)\n",
        "times_sequential = []  # Almacenará los tiempos de ejecución\n",
        "\n",
        "# Ejecutamos la función secuencial 20 veces y almacenamos los tiempos\n",
        "for _ in range(5):\n",
        "    start_time = time.time()\n",
        "    result = sum_of_squares_sequential(N)\n",
        "    end_time = time.time()\n",
        "    times_sequential.append(end_time - start_time)\n",
        "\n",
        "# Calculamos la mediana de los tiempos\n",
        "median_time_sequential = np.median(times_sequential)\n",
        "\n",
        "print(f\"Mediana del tiempo secuencial: {median_time_sequential} segundos\")\n"
      ]
    },
    {
      "cell_type": "code",
      "execution_count": 46,
      "id": "d904280c",
      "metadata": {
        "colab": {
          "base_uri": "https://localhost:8080/"
        },
        "id": "d904280c",
        "outputId": "dffd86f4-d9f3-4032-8ca9-51597f90d220"
      },
      "outputs": [
        {
          "output_type": "stream",
          "name": "stdout",
          "text": [
            "Mediana del tiempo secuencial: 36.32996416091919 segundos\n"
          ]
        }
      ],
      "source": [
        "import threading\n",
        "import time\n",
        "\n",
        "# Función para calcular la suma de los cuadrados en un rango específico, de manera concurrente en un hilo\n",
        "def sum_of_squares(start, end, result, index):\n",
        "    \"\"\"\n",
        "    Calcula la suma de los cuadrados de los números en el rango [start, end).\n",
        "    El resultado se almacena en la lista `result` en la posición `index` para identificar el hilo.\n",
        "    \"\"\"\n",
        "    sum = 0\n",
        "    for i in range(start, end):\n",
        "        sum += i**2  # Calcula el cuadrado de i y lo suma\n",
        "    result[index] = sum  # Guarda el resultado de este hilo en la posición correspondiente de `result`\n",
        "\n",
        "# Función principal para gestionar múltiples hilos y sumar los resultados\n",
        "def sum_of_squares_multithread(N, num_threads=4):\n",
        "    \"\"\"\n",
        "    Divide la tarea de calcular la suma de los cuadrados entre varios hilos.\n",
        "    Cada hilo calcula una parte de la suma en un rango de números.\n",
        "    \"\"\"\n",
        "    threads = []  # Lista para almacenar los hilos\n",
        "    results = [0] * num_threads  # Lista para almacenar los resultados de cada hilo\n",
        "    chunk_size = N // num_threads  # Divide el rango de números en partes iguales para cada hilo\n",
        "\n",
        "    for i in range(num_threads):\n",
        "        # Calcula los límites del rango que cada hilo procesará\n",
        "        start = i * chunk_size\n",
        "        end = N if i == num_threads - 1 else (i + 1) * chunk_size\n",
        "        # Crea un hilo para ejecutar la función `sum_of_squares` en el rango definido\n",
        "        thread = threading.Thread(target=sum_of_squares, args=(start, end, results, i))\n",
        "        threads.append(thread)  # Añade el hilo a la lista\n",
        "        thread.start()  # Inicia la ejecución del hilo\n",
        "\n",
        "    # Espera a que todos los hilos terminen su ejecución\n",
        "    for thread in threads:\n",
        "        thread.join()\n",
        "\n",
        "    # Retorna la suma total de todos los resultados calculados por los hilos\n",
        "    return sum(results)\n",
        "\n",
        "# Ejecutar la función multi-hilos 20 veces y calcular la mediana de los tiempos de ejecución\n",
        "N = 10**8  # Definimos el valor de N para el experimento (10 millones)\n",
        "times_multithreading = []  # Almacenará los tiempos de ejecución\n",
        "\n",
        "# Ejecutamos la función multi-hilos 20 veces y almacenamos los tiempos\n",
        "for _ in range(5):\n",
        "    start_time = time.time()\n",
        "    result = sum_of_squares_multithread(N)\n",
        "    end_time = time.time()\n",
        "    times_multithreading.append(end_time - start_time)\n",
        "\n",
        "# Calculamos la mediana de los tiempos\n",
        "median_time_multithreading = np.median(times_multithreading)\n",
        "\n",
        "print(f\"Mediana del tiempo secuencial: {median_time_multithreading} segundos\")\n"
      ]
    },
    {
      "cell_type": "code",
      "execution_count": 47,
      "id": "4014db6e",
      "metadata": {
        "colab": {
          "base_uri": "https://localhost:8080/"
        },
        "id": "4014db6e",
        "outputId": "637c521c-11fb-457c-9e66-7a282bfe7a6c"
      },
      "outputs": [
        {
          "output_type": "stream",
          "name": "stdout",
          "text": [
            "Mediana del tiempo secuencial: 35.85261106491089 segundos\n"
          ]
        }
      ],
      "source": [
        "import multiprocessing\n",
        "import time\n",
        "\n",
        "# Función para calcular la suma de los cuadrados en un rango específico, ejecutada en un proceso\n",
        "def sum_of_squares(start, end, queue):\n",
        "    \"\"\"\n",
        "    Calcula la suma de los cuadrados de los números en el rango [start, end).\n",
        "    El resultado se coloca en una cola para que el proceso principal lo recoja.\n",
        "    \"\"\"\n",
        "    sum = 0\n",
        "    for i in range(start, end):\n",
        "        sum += i**2  # Calcula el cuadrado de i y lo suma\n",
        "    queue.put(sum)  # Coloca el resultado en la cola para que el proceso principal lo recoja\n",
        "\n",
        "# Función principal para gestionar múltiples procesos y sumar los resultados\n",
        "def sum_of_squares_multiprocess(N, num_processes=4):\n",
        "    \"\"\"\n",
        "    Divide la tarea de calcular la suma de los cuadrados entre varios procesos.\n",
        "    Cada proceso calcula una parte de la suma en un rango de números.\n",
        "    \"\"\"\n",
        "    processes = []  # Lista para almacenar los procesos\n",
        "    queue = multiprocessing.Queue()  # Cola para recolectar los resultados de los procesos\n",
        "    chunk_size = N // num_processes  # Divide el rango de números en partes iguales para cada proceso\n",
        "\n",
        "    for i in range(num_processes):\n",
        "        # Calcula los límites del rango que cada proceso procesará\n",
        "        start = i * chunk_size\n",
        "        end = N if i == num_processes - 1 else (i + 1) * chunk_size\n",
        "        # Crea un proceso para ejecutar la función `sum_of_squares` en el rango definido\n",
        "        process = multiprocessing.Process(target=sum_of_squares, args=(start, end, queue))\n",
        "        processes.append(process)  # Añade el proceso a la lista\n",
        "        process.start()  # Inicia la ejecución del proceso\n",
        "\n",
        "    # Recolecta los resultados de la cola\n",
        "    results = [queue.get() for _ in range(num_processes)]\n",
        "\n",
        "    # Espera a que todos los procesos terminen su ejecución\n",
        "    for process in processes:\n",
        "        process.join()\n",
        "\n",
        "    # Retorna la suma total de todos los resultados calculados por los procesos\n",
        "    return sum(results)\n",
        "\n",
        "# Ejecutar la función multi-procesos 20 veces y calcular la mediana de los tiempos de ejecución\n",
        "N = 10**8  # Definimos el valor de N para el experimento (10 millones)\n",
        "times_multiprocessing = []  # Almacenará los tiempos de ejecución\n",
        "\n",
        "# Ejecutamos la función multi-procesos 20 veces y almacenamos los tiempos\n",
        "for _ in range(5):\n",
        "    start_time = time.time()\n",
        "    result = sum_of_squares_multiprocess(N)\n",
        "    end_time = time.time()\n",
        "    times_multiprocessing.append(end_time - start_time)\n",
        "\n",
        "# Calculamos la mediana de los tiempos\n",
        "median_time_multiprocessing = np.median(times_multiprocessing)\n",
        "\n",
        "print(f\"Mediana del tiempo secuencial: {median_time_multiprocessing} segundos\")\n"
      ]
    },
    {
      "cell_type": "markdown",
      "source": [
        "Al ver los tiempos dados por cada implementacion podemos ver que el que tarda menos es el secuencial. La versión secuencial suele ser más rápida (en estos casos) porque usar hilos o procesos tiene un costo extra en organizar y manejar toda esta tarea.\n",
        "\n",
        "Para tareas sencillas, como sumar esta de sumar cuadrados (aunque sean 10 millones de numeros), este esfuerzo adicional hace que el tiempo total sea mayor, ya que dividir el trabajo no vale la pena comparado con hacerlo de forma directa y sin dividir.\n",
        "\n",
        "Para este ejemplo en concreto de la suma de los primeros 10 millones de cuadrados, la implementacion en correrlo secuencialmente es mas eficiente por lo anteriormente mencionado."
      ],
      "metadata": {
        "id": "PZIG8kkaTZq9"
      },
      "id": "PZIG8kkaTZq9"
    },
    {
      "cell_type": "code",
      "source": [
        "\"\"\"                                                                                                                         |||\n",
        "                                                                                                                            |||\n",
        "                                                                                                                            |||\n",
        "                                                                                                                            |||   |^^^^^^^^^^^\\||____\n",
        "                                                                                                                            |||   | IMPLEMENTACION |||\"\"'|\"\"\\\n",
        "                                                                                                                            |||   | SECUENCIAL     ||        |\n",
        "                                                                                                                            |||   | _______________||__|__|__|)\n",
        "                                                                                                                            |||      (@)@)\"\"\"\"\"\"\"**(@)(@)\n",
        "                                                                                                                            |||\n",
        "                                                                                                                            |||\n",
        "                                                                              |^^^^^^^^^^^\\||____                           |||\n",
        "                                                                              | IMPLEMENTACION |||\"\"'|\"\"\\                   |||\n",
        "                                                                              | MULTIHILOS     ||        |                  |||\n",
        "                                                                              | _______________||__|__|__|)                 |||\n",
        "                                                                                 (@)@)\"\"\"\"\"\"\"**(@)(@)                       |||\n",
        "                                                                                                                            |||\n",
        "                                                                                                                            |||\n",
        "                                                                                                        |^^^^^^^^^^^\\||______||\n",
        "                                                                                                        | IMPLEMENTACION    |||\"\"'|\"\"\\\n",
        "                                                                                                        | MULTIPROCESOS     ||        |\n",
        "                                                                                                        | __________________||__|__|__|)\n",
        "                                                                                                           (@)@)\"\"\"\"\"\"\"**(@)(@)\n",
        "                                                                                                                            |||\n",
        "                                                                                                                            |||\n",
        "                                                                                                                            |||\n",
        "                                                                                                                            |||\n",
        "                                                                                                                            |||\n",
        "                                                                                                                            |||\n",
        "                                                                                                                            |||\n",
        "                                                                                                                            |M|\n",
        "                                                                                                                            |E|\n",
        "                                                                                                                            |T|\n",
        "                                                                                                                            |A|\n",
        "                                                                                                                            |||\n",
        "                                                                                                                            |||\n",
        "                                                                                                                            |||\n",
        "                                                                                                                            |||\n",
        "ojala esto me gane puntos por creatividad :)                                                                                |||\n",
        "\"\"\"\n"
      ],
      "metadata": {
        "id": "PV1utSXpUQOb"
      },
      "id": "PV1utSXpUQOb",
      "execution_count": 47,
      "outputs": []
    }
  ],
  "metadata": {
    "colab": {
      "provenance": []
    },
    "language_info": {
      "name": "python"
    },
    "kernelspec": {
      "name": "python3",
      "display_name": "Python 3"
    }
  },
  "nbformat": 4,
  "nbformat_minor": 5
}