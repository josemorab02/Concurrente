{
  "nbformat": 4,
  "nbformat_minor": 0,
  "metadata": {
    "colab": {
      "provenance": []
    },
    "kernelspec": {
      "name": "python3",
      "display_name": "Python 3"
    },
    "language_info": {
      "name": "python"
    }
  },
  "cells": [
    {
      "cell_type": "code",
      "execution_count": 10,
      "metadata": {
        "id": "4ct5f-kCnf0v"
      },
      "outputs": [],
      "source": [
        "import time\n",
        "import numpy as np"
      ]
    },
    {
      "cell_type": "code",
      "source": [
        "def suma_ciclo_for(n, resultado):\n",
        "\n",
        "    for i in range(0,n):\n",
        "\n",
        "        resultado = resultado + (i+1)\n",
        "\n",
        "    return resultado"
      ],
      "metadata": {
        "id": "jMMDsp6ynmk3"
      },
      "execution_count": 11,
      "outputs": []
    },
    {
      "cell_type": "code",
      "source": [
        "def suma_formula_general(n, resultado):\n",
        "\n",
        "    resultado = (n*(n+1))/2\n",
        "\n",
        "    return resultado"
      ],
      "metadata": {
        "id": "dQB2FGCWt9bX"
      },
      "execution_count": 12,
      "outputs": []
    },
    {
      "cell_type": "code",
      "source": [
        "resultado = 0\n",
        "intentos_formula_general = []\n",
        "n=10\n",
        "\n",
        "for i in range(0,100):\n",
        "  # Guardar el tiempo de inicio\n",
        "  start_time = time.time()\n",
        "\n",
        "  suma_formula_general(n, resultado)\n",
        "\n",
        "  # Guardar el tiempo de finalización\n",
        "  end_time = time.time()\n",
        "\n",
        "  # Calcular el tiempo transcurrido\n",
        "  total = end_time - start_time\n",
        "\n",
        "  intentos_formula_general.append(total)\n",
        "\n",
        "print(intentos_formula_general)"
      ],
      "metadata": {
        "id": "MZAnRYZGuX5t",
        "colab": {
          "base_uri": "https://localhost:8080/"
        },
        "outputId": "15739300-8b77-4acc-ff1a-4cc3843a8936"
      },
      "execution_count": 13,
      "outputs": [
        {
          "output_type": "stream",
          "name": "stdout",
          "text": [
            "[2.384185791015625e-06, 7.152557373046875e-07, 9.5367431640625e-07, 7.152557373046875e-07, 4.76837158203125e-07, 7.152557373046875e-07, 7.152557373046875e-07, 4.76837158203125e-07, 7.152557373046875e-07, 4.76837158203125e-07, 7.152557373046875e-07, 7.152557373046875e-07, 4.76837158203125e-07, 4.76837158203125e-07, 7.152557373046875e-07, 4.76837158203125e-07, 4.76837158203125e-07, 4.76837158203125e-07, 4.76837158203125e-07, 4.76837158203125e-07, 4.76837158203125e-07, 4.76837158203125e-07, 4.76837158203125e-07, 4.76837158203125e-07, 4.76837158203125e-07, 4.76837158203125e-07, 7.152557373046875e-07, 4.76837158203125e-07, 4.76837158203125e-07, 7.152557373046875e-07, 7.152557373046875e-07, 4.76837158203125e-07, 4.76837158203125e-07, 7.152557373046875e-07, 4.76837158203125e-07, 4.76837158203125e-07, 9.5367431640625e-07, 4.76837158203125e-07, 4.76837158203125e-07, 7.152557373046875e-07, 4.76837158203125e-07, 4.76837158203125e-07, 7.152557373046875e-07, 4.76837158203125e-07, 7.152557373046875e-07, 4.76837158203125e-07, 4.76837158203125e-07, 4.76837158203125e-07, 7.152557373046875e-07, 4.76837158203125e-07, 4.76837158203125e-07, 4.76837158203125e-07, 4.76837158203125e-07, 4.76837158203125e-07, 4.76837158203125e-07, 4.76837158203125e-07, 4.76837158203125e-07, 4.76837158203125e-07, 7.152557373046875e-07, 7.152557373046875e-07, 4.76837158203125e-07, 7.152557373046875e-07, 4.76837158203125e-07, 4.76837158203125e-07, 7.152557373046875e-07, 4.76837158203125e-07, 4.76837158203125e-07, 4.76837158203125e-07, 4.76837158203125e-07, 4.76837158203125e-07, 7.152557373046875e-07, 4.76837158203125e-07, 7.152557373046875e-07, 4.76837158203125e-07, 4.76837158203125e-07, 7.152557373046875e-07, 4.76837158203125e-07, 4.76837158203125e-07, 4.76837158203125e-07, 7.152557373046875e-07, 4.76837158203125e-07, 9.5367431640625e-07, 9.5367431640625e-07, 4.76837158203125e-07, 7.152557373046875e-07, 4.76837158203125e-07, 4.76837158203125e-07, 4.76837158203125e-07, 4.76837158203125e-07, 4.76837158203125e-07, 7.152557373046875e-07, 4.76837158203125e-07, 7.152557373046875e-07, 7.152557373046875e-07, 4.76837158203125e-07, 4.76837158203125e-07, 4.76837158203125e-07, 4.76837158203125e-07, 7.152557373046875e-07, 4.76837158203125e-07]\n"
          ]
        }
      ]
    },
    {
      "cell_type": "code",
      "source": [
        "resultado = 0\n",
        "intentos_ciclo_for = []\n",
        "n=10\n",
        "\n",
        "for i in range(0,100):\n",
        "  # Guardar el tiempo de inicio\n",
        "  start_time = time.time()\n",
        "\n",
        "  suma_ciclo_for(n, resultado)\n",
        "\n",
        "  # Guardar el tiempo de finalización\n",
        "  end_time = time.time()\n",
        "\n",
        "  # Calcular el tiempo transcurrido\n",
        "  total = end_time - start_time\n",
        "\n",
        "  intentos_ciclo_for.append(total)\n",
        "\n",
        "# print(intentos_ciclo_for)"
      ],
      "metadata": {
        "id": "27shG6fBvPGu"
      },
      "execution_count": 14,
      "outputs": []
    },
    {
      "cell_type": "code",
      "source": [
        "# Calcular la media\n",
        "mean_formula_general = np.mean(intentos_formula_general)\n",
        "mean_ciclo_for = np.mean(intentos_ciclo_for)\n",
        "\n",
        "media_formula_general_decimal = format(mean_formula_general, '.15f')\n",
        "media_ciclo_for_decimal = format(mean_ciclo_for, '.15f')\n",
        "\n",
        "# Mostrar las medias\n",
        "print(f\"Media utilizando formula general: {media_formula_general_decimal} segundos\")\n",
        "print(f\"Media utilizando ciclo for: {media_ciclo_for_decimal} segundos\")\n",
        "\n",
        "if media_formula_general_decimal < media_ciclo_for_decimal:\n",
        "  print(\"Por formula general es mas rapido\")\n",
        "else:\n",
        "  print(\"Utilizando un ciclo for es mas rapido\")"
      ],
      "metadata": {
        "colab": {
          "base_uri": "https://localhost:8080/"
        },
        "id": "XiZy00rgvufx",
        "outputId": "85306ae4-d27a-4656-9b1a-0acbc8a4251c"
      },
      "execution_count": 15,
      "outputs": [
        {
          "output_type": "stream",
          "name": "stdout",
          "text": [
            "Media utilizando formula general: 0.000000584125519 segundos\n",
            "Media utilizando ciclo for: 0.000001533031464 segundos\n",
            "Por formula general es mas rapido\n"
          ]
        }
      ]
    }
  ]
}